{
  "nbformat": 4,
  "nbformat_minor": 0,
  "metadata": {
    "colab": {
      "name": "next_state_in_tictactoe_minimax_algorithm.ipynb",
      "provenance": [],
      "authorship_tag": "ABX9TyO8OovhfSK3NZH7Q7UXFaEZ",
      "include_colab_link": true
    },
    "kernelspec": {
      "name": "python3",
      "display_name": "Python 3"
    }
  },
  "cells": [
    {
      "cell_type": "markdown",
      "metadata": {
        "id": "view-in-github",
        "colab_type": "text"
      },
      "source": [
        "<a href=\"https://colab.research.google.com/github/ahammedshaneebnk/AI_Search_Algorithms_Exercises/blob/main/next_state_in_tictactoe_minimax_algorithm.ipynb\" target=\"_parent\"><img src=\"https://colab.research.google.com/assets/colab-badge.svg\" alt=\"Open In Colab\"/></a>"
      ]
    },
    {
      "cell_type": "markdown",
      "metadata": {
        "id": "cQUbuD60fQRx"
      },
      "source": [
        "Predict the next state in tic tac toe game using minimax algorithm"
      ]
    },
    {
      "cell_type": "code",
      "metadata": {
        "id": "Yr9QMm3Qc1OY"
      },
      "source": [
        "import numpy as np\n",
        "# players, Max: 'x' and Min: 'o'\n",
        "pMax = 'x'\n",
        "pMin = 'o'"
      ],
      "execution_count": 1,
      "outputs": []
    },
    {
      "cell_type": "code",
      "metadata": {
        "id": "vKiN_27sdGX0"
      },
      "source": [
        "# function to check the state is terminal state or not\n",
        "# presence of None\n",
        "def isTerminalState(st):\n",
        "  if None in st:\n",
        "    return False\n",
        "  else:\n",
        "    return True"
      ],
      "execution_count": 2,
      "outputs": []
    },
    {
      "cell_type": "code",
      "metadata": {
        "id": "PR7049lmdL9t"
      },
      "source": [
        "# function to find the utility of the state\n",
        "# win: +1, lose: -1\n",
        "def find_utility(st):\n",
        "\n",
        "  # row wise check\n",
        "  for i in range(lenState):\n",
        "    if st[i][0] == st[i][1] and st[i][1] == st[i][2]:\n",
        "      if st[i][0] == pMax:\n",
        "        return 1\n",
        "      elif st[i][0] == pMin:\n",
        "        return -1\n",
        "\n",
        "  # column wise check\n",
        "  for j in range(lenState):\n",
        "    if st[0][j] == st[1][j] and st[1][j] == st[2][j]:\n",
        "      if st[0][j] == pMax:\n",
        "        return 1\n",
        "      elif st[0][j] == pMin:\n",
        "        return -1\n",
        "\n",
        "  # diagonal check\n",
        "  if st[0][0] == st[1][1] and st[1][1] == st[2][2]:\n",
        "    if st[0][0] == pMax:\n",
        "      return 1\n",
        "    elif st[0][0] == pMin:\n",
        "      return -1\n",
        "\n",
        "  # off diagonal check\n",
        "  if st[0][2] == st[1][1] and st[1][1] == st[2][0]:\n",
        "    if st[0][2] == pMax:\n",
        "      return 1\n",
        "    elif st[0][2] == pMin:\n",
        "      return -1\n",
        "      \n",
        "  return 0"
      ],
      "execution_count": 3,
      "outputs": []
    },
    {
      "cell_type": "code",
      "metadata": {
        "id": "BWqivazPd6VC"
      },
      "source": [
        "# function to find the minimax value\n",
        "def find_minimax(st, depth, isMax):\n",
        "  utility = find_utility(st)\n",
        "\n",
        "  # return the utility if already won\n",
        "  if utility == 1 or utility == -1:\n",
        "    return utility\n",
        "\n",
        "  # return zero if no win and terminal state\n",
        "  if isTerminalState(st):\n",
        "    return 0\n",
        "\n",
        "  # No win, not terminal state\n",
        "  # Max Turn, Maximum value\n",
        "  if isMax:\n",
        "    best = -np.inf\n",
        "    for i in range(3):\n",
        "      for j in range(3):\n",
        "        if st[i][j] is None:\n",
        "          st[i][j] = pMax\n",
        "          best = max(best, find_minimax(st, depth + 1, not isMax))\n",
        "          st[i][j] = None\n",
        "    return best\n",
        "\n",
        "  # No win, not terminal state\n",
        "  # Min Turn, Minimum value\n",
        "  else:\n",
        "    best = np.inf\n",
        "    for i in range(3):\n",
        "      for j in range(3):\n",
        "        if st[i][j] is None:\n",
        "          st[i][j] = pMin\n",
        "          best = min(best, find_minimax(st, depth + 1, not isMax))\n",
        "          st[i][j] = None\n",
        "    return best"
      ],
      "execution_count": 4,
      "outputs": []
    },
    {
      "cell_type": "code",
      "metadata": {
        "id": "ak5YoVkcerHw"
      },
      "source": [
        "# function to find the next state\n",
        "def find_next_state(st):\n",
        "  bestUt = -np.inf\n",
        "  bestStateIndx = [0, 0]\n",
        "  for i in range(lenState):\n",
        "    for j in range(lenState):\n",
        "      if st[i][j] is None:\n",
        "        st[i][j] = pMax\n",
        "        utVal = find_minimax(st, 0, False)\n",
        "        st[i][j] = None\n",
        "        if utVal > bestUt:\n",
        "          bestStateIndx = [i, j]\n",
        "          bestUt = utVal\n",
        "  print(\"Max Utility = \", bestUt)\n",
        "  return bestStateIndx"
      ],
      "execution_count": 5,
      "outputs": []
    },
    {
      "cell_type": "code",
      "metadata": {
        "id": "YQmmIRAne74s"
      },
      "source": [
        "# function to display the state\n",
        "def display_state(state):\n",
        "  for i in range(len(state)):\n",
        "    print(state[i])"
      ],
      "execution_count": 6,
      "outputs": []
    },
    {
      "cell_type": "code",
      "metadata": {
        "id": "DI4BMh_UfATf"
      },
      "source": [
        "# Input state\n",
        "state = [['x', 'o', 'o'],\n",
        "        [None, 'o', 'x'],\n",
        "        ['x', None, None]]"
      ],
      "execution_count": 7,
      "outputs": []
    },
    {
      "cell_type": "code",
      "metadata": {
        "colab": {
          "base_uri": "https://localhost:8080/"
        },
        "id": "01VOXNbofDnP",
        "outputId": "a7043567-dd0c-47bf-f783-f184e441ee2b"
      },
      "source": [
        "lenState = len(state)\n",
        "print(\"Input State:\")\n",
        "display_state(state)\n",
        "print(\"\\nNext Predicted State:\")\n",
        "nextState = find_next_state(state)\n",
        "print(f\"Add 'x' at ({nextState[0]},{nextState[1]})\\n\")\n",
        "state[nextState[0]][nextState[1]] = pMax\n",
        "display_state(state)"
      ],
      "execution_count": 8,
      "outputs": [
        {
          "output_type": "stream",
          "text": [
            "Input State:\n",
            "['x', 'o', 'o']\n",
            "[None, 'o', 'x']\n",
            "['x', None, None]\n",
            "\n",
            "Next Predicted State:\n",
            "Max Utility =  1\n",
            "Add 'x' at (1,0)\n",
            "\n",
            "['x', 'o', 'o']\n",
            "['x', 'o', 'x']\n",
            "['x', None, None]\n"
          ],
          "name": "stdout"
        }
      ]
    },
    {
      "cell_type": "markdown",
      "metadata": {
        "id": "ljrjvPtqfcsO"
      },
      "source": [
        "**Submitted By:**\n",
        "\n",
        "> Ahammed Shaneeb N K\n",
        "\n",
        "> M.Tech, Artificial Intelligence\n",
        "\n",
        "> College of Engineering, Trivandrum"
      ]
    }
  ]
}