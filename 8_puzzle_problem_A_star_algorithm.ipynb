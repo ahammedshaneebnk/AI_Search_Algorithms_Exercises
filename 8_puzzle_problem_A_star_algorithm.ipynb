{
  "nbformat": 4,
  "nbformat_minor": 0,
  "metadata": {
    "colab": {
      "name": "8_puzzle_problem_A_star_algorithm.ipynb",
      "provenance": [],
      "authorship_tag": "ABX9TyMS7TRJ7vR8sktryFkPMVw3",
      "include_colab_link": true
    },
    "kernelspec": {
      "name": "python3",
      "display_name": "Python 3"
    }
  },
  "cells": [
    {
      "cell_type": "markdown",
      "metadata": {
        "id": "view-in-github",
        "colab_type": "text"
      },
      "source": [
        "<a href=\"https://colab.research.google.com/github/ahammedshaneebnk/AI_Search_Algorithms_Exercises/blob/main/8_puzzle_problem_A_star_algorithm.ipynb\" target=\"_parent\"><img src=\"https://colab.research.google.com/assets/colab-badge.svg\" alt=\"Open In Colab\"/></a>"
      ]
    },
    {
      "cell_type": "markdown",
      "metadata": {
        "id": "QDxEOtt5-Wdb"
      },
      "source": [
        "**8 Puzzle Problem using A* Algorithm**"
      ]
    },
    {
      "cell_type": "markdown",
      "metadata": {
        "id": "4dlHSMfm-jOj"
      },
      "source": [
        "Heuristic Function: Number of Misplaced Tiles"
      ]
    },
    {
      "cell_type": "code",
      "metadata": {
        "id": "MJh9Hwsb-NmB"
      },
      "source": [
        "# importing libraries\n",
        "import numpy as np\n",
        "import pandas as pd\n",
        "import copy as cp"
      ],
      "execution_count": 22,
      "outputs": []
    },
    {
      "cell_type": "code",
      "metadata": {
        "id": "GnxyT1pQ-uV0"
      },
      "source": [
        "# function to find the path\n",
        "def find_path(state):\n",
        "  bestsol = np.array([], int).reshape(-1, 9)\n",
        "  count = len(state) - 1\n",
        "\n",
        "  while count != -1:\n",
        "    bestsol = np.insert(bestsol, 0, state[count]['puzzle'], 0)\n",
        "    count = (state[count]['parent'])\n",
        "    \n",
        "  return bestsol"
      ],
      "execution_count": 23,
      "outputs": []
    },
    {
      "cell_type": "code",
      "metadata": {
        "id": "tInSjzWT-wiK"
      },
      "source": [
        "# function to find the value of h\n",
        "def find_h(puzzle, goal):\n",
        "  mscost = np.sum(puzzle != goal) - 1\n",
        "  return mscost if mscost > 0 else 0"
      ],
      "execution_count": 24,
      "outputs": []
    },
    {
      "cell_type": "code",
      "metadata": {
        "id": "9o480cVt-9Zp"
      },
      "source": [
        "# function to find the co-ordinates of each value in a state\n",
        "def find_coordinates(puzzle):\n",
        "  pos = np.array(range(9))\n",
        "\n",
        "  for p, q in enumerate(puzzle):\n",
        "    pos[q] = p\n",
        "    \n",
        "  return pos"
      ],
      "execution_count": 25,
      "outputs": []
    },
    {
      "cell_type": "code",
      "metadata": {
        "id": "hL964wrG_FfM"
      },
      "source": [
        "# find the solution using A* algorithm\n",
        "def find_solution(initialState, goalState):\n",
        "  steps = np.array([('up', [0, 1, 2], -3), ('down', [6, 7, 8], 3), \\\n",
        "                    ('left', [0, 3, 6], -1), ('right', [2, 5, 8], 1)],\n",
        "                  dtype=[('move', str, 1), ('position', list), ('head', int)])\n",
        "  dtstate = [('puzzle', list), ('parent', int), ('gn', int), ('hn', int)]\n",
        "  goalCoordinates = find_coordinates(goalState)\n",
        "\n",
        "  # initializing the parent, gn and hn, where hn is misplaced_tiles\n",
        "  parent = -1\n",
        "  gn = 0\n",
        "  hn = find_h(find_coordinates(initialState), goalCoordinates)\n",
        "  state = np.array([(initialState, parent, gn, hn)], dtstate)\n",
        "\n",
        "  # We make use of priority queues with position as keys and fn as value.\n",
        "  dtpriority = [('position', int), ('fn', int)]\n",
        "  priority = np.array([(0, hn)], dtpriority)\n",
        "\n",
        "  while 1:\n",
        "    priority = np.sort(priority, kind='mergesort', order=['fn', 'position'])\n",
        "    position, fn = priority[0]\n",
        "\n",
        "    # sort priority queue using merge sort,the first element is picked for exploring.\n",
        "    priority = np.delete(priority, 0, 0)\n",
        "    initialState, parent, gn, hn = state[position]\n",
        "    initialState = np.array(initialState)\n",
        "\n",
        "    # Identify the blank square in input\n",
        "    blank = int(np.where(initialState == 0)[0])\n",
        "\n",
        "    # Increase cost g(n) by 1\n",
        "    gn = gn + 1\n",
        "    c = 1\n",
        "\n",
        "    for s in steps:\n",
        "      c = c + 1\n",
        "      if blank not in s['position']:\n",
        "        # generate new state as copy of current\n",
        "        openstates = cp.deepcopy(initialState)\n",
        "        openstates[blank], openstates[blank + s['head']] = \\\n",
        "        openstates[blank + s['head']], openstates[blank]\n",
        "        \n",
        "        # The check function is called, if the node has been previously explored or not.\n",
        "        if ~(np.all(list(state['puzzle']) == openstates, 1)).any():\n",
        "          # calls the Misplaced_tiles function to calculate the cost\n",
        "          hn = find_h(find_coordinates(openstates), goalCoordinates)\n",
        "          # generate and add new state in the list\n",
        "          q = np.array([(openstates, position, gn, hn)], dtstate)\n",
        "          state = np.append(state, q, 0)\n",
        "          # f(n) is the sum of cost to reach node and the cost to reach from the node to the goal state\n",
        "          fn = gn + hn\n",
        "          q = np.array([(len(state) - 1, fn)], dtpriority)\n",
        "          priority = np.append(priority, q, 0)\n",
        "          # Checking if the node in openstates are matching the goal state.\n",
        "          if np.array_equal(openstates, goalState):\n",
        "            return state"
      ],
      "execution_count": 26,
      "outputs": []
    },
    {
      "cell_type": "code",
      "metadata": {
        "id": "RUZeS3Js_xF0"
      },
      "source": [
        "# setting the initial and final state\n",
        "initialState = np.array([1, 2, 3, 0, 4, 6, 7, 5, 8])\n",
        "goalState = np.array([1, 2, 3, 4, 5, 6, 7, 8, 0])\n",
        "solution = find_solution(initialState, goalState)"
      ],
      "execution_count": 27,
      "outputs": []
    },
    {
      "cell_type": "code",
      "metadata": {
        "colab": {
          "base_uri": "https://localhost:8080/"
        },
        "id": "oQHGojRw_xl7",
        "outputId": "afb13592-de2c-40bf-d7a8-5babf7e93753"
      },
      "source": [
        "# displaying the travelled states details as Pandas Dataframe\n",
        "df = pd.DataFrame(solution)\n",
        "df.columns = ['state', 'parent', 'g', 'h']\n",
        "f = []\n",
        "\n",
        "for i in range(len(solution)):\n",
        "  f.append(solution[i][-1]+solution[i][-2])\n",
        "  \n",
        "df['f'] = f\n",
        "print(f\"{20*'='} Travelled States Details {20*'='}\\n\")\n",
        "print(df)"
      ],
      "execution_count": 28,
      "outputs": [
        {
          "output_type": "stream",
          "text": [
            "==================== Travelled States Details ====================\n",
            "\n",
            "                         state  parent  g  h  f\n",
            "0  [1, 2, 3, 0, 4, 6, 7, 5, 8]      -1  0  3  3\n",
            "1  [0, 2, 3, 1, 4, 6, 7, 5, 8]       0  1  4  5\n",
            "2  [1, 2, 3, 7, 4, 6, 0, 5, 8]       0  1  4  5\n",
            "3  [1, 2, 3, 4, 0, 6, 7, 5, 8]       0  1  2  3\n",
            "4  [1, 0, 3, 4, 2, 6, 7, 5, 8]       3  2  3  5\n",
            "5  [1, 2, 3, 4, 5, 6, 7, 0, 8]       3  2  1  3\n",
            "6  [1, 2, 3, 4, 6, 0, 7, 5, 8]       3  2  3  5\n",
            "7  [1, 2, 3, 4, 5, 6, 0, 7, 8]       5  3  2  5\n",
            "8  [1, 2, 3, 4, 5, 6, 7, 8, 0]       5  3  0  3\n"
          ],
          "name": "stdout"
        }
      ]
    },
    {
      "cell_type": "code",
      "metadata": {
        "colab": {
          "base_uri": "https://localhost:8080/"
        },
        "id": "HsLeopL__3i1",
        "outputId": "27c0834a-d7d7-4998-a41e-7ff6c5ab9a29"
      },
      "source": [
        "# displaying the solution\n",
        "bestpath = find_path(solution)\n",
        "g = []\n",
        "h = []\n",
        "f = []\n",
        "\n",
        "for i in range(len(bestpath)):\n",
        "  for j in range(len(solution)):\n",
        "    if np.sum(bestpath[i] == solution[j][0]) == 9:\n",
        "      g.append(solution[j][-2])\n",
        "      h.append(solution[j][-1])\n",
        "      f.append(solution[j][-1]+solution[j][-2])\n",
        "\n",
        "print(f\"\\n{20*'='} Solution {20*'='}\")\n",
        "\n",
        "for i in range(len(bestpath)):\n",
        "  print(f\"\\nstep {i}: g = {g[i]}, h = {h[i]}, f = {f[i]}\\n{bestpath[i].reshape(-1, 3, 3)[0]}\")\n",
        "  \n",
        "print(f\"\\n{20*'='} End {20*'='}\")"
      ],
      "execution_count": 29,
      "outputs": [
        {
          "output_type": "stream",
          "text": [
            "\n",
            "==================== Solution ====================\n",
            "\n",
            "step 0: g = 0, h = 3, f = 3\n",
            "[[1 2 3]\n",
            " [0 4 6]\n",
            " [7 5 8]]\n",
            "\n",
            "step 1: g = 1, h = 2, f = 3\n",
            "[[1 2 3]\n",
            " [4 0 6]\n",
            " [7 5 8]]\n",
            "\n",
            "step 2: g = 2, h = 1, f = 3\n",
            "[[1 2 3]\n",
            " [4 5 6]\n",
            " [7 0 8]]\n",
            "\n",
            "step 3: g = 3, h = 0, f = 3\n",
            "[[1 2 3]\n",
            " [4 5 6]\n",
            " [7 8 0]]\n",
            "\n",
            "==================== End ====================\n"
          ],
          "name": "stdout"
        }
      ]
    },
    {
      "cell_type": "markdown",
      "metadata": {
        "id": "9vJIKjbkAtcK"
      },
      "source": [
        "**Submitted By:**\n",
        "\n",
        "> Ahammed Shaneeb N K\n",
        "\n",
        "> M.Tech, Artificial Intelligence\n",
        "\n",
        "> College of Engineering, Trivandrum, India"
      ]
    }
  ]
}